{
  "nbformat": 4,
  "nbformat_minor": 0,
  "metadata": {
    "colab": {
      "private_outputs": true,
      "provenance": [],
      "collapsed_sections": [
        "vncDsAP0Gaoa",
        "FJNUwmbgGyua",
        "w6K7xa23Elo4",
        "yQaldy8SH6Dl",
        "mDgbUHAGgjLW",
        "O_i_v8NEhb9l",
        "HhfV-JJviCcP",
        "Y3lxredqlCYt",
        "3RnN4peoiCZX",
        "x71ZqKXriCWQ",
        "7hBIi_osiCS2",
        "JlHwYmJAmNHm",
        "35m5QtbWiB9F",
        "PoPl-ycgm1ru",
        "H0kj-8xxnORC",
        "nA9Y7ga8ng1Z",
        "PBTbrJXOngz2",
        "u3PMJOP6ngxN",
        "dauF4eBmngu3",
        "bKJF3rekwFvQ",
        "MSa1f5Uengrz",
        "GF8Ens_Soomf",
        "0wOQAZs5pc--",
        "K5QZ13OEpz2H",
        "lQ7QKXXCp7Bj",
        "448CDAPjqfQr",
        "KSlN3yHqYklG",
        "t6dVpIINYklI",
        "ijmpgYnKYklI",
        "-JiQyfWJYklI",
        "EM7whBJCYoAo",
        "fge-S5ZAYoAp",
        "85gYPyotYoAp",
        "RoGjAbkUYoAp",
        "4Of9eVA-YrdM",
        "iky9q4vBYrdO",
        "F6T5p64dYrdO",
        "y-Ehk30pYrdP",
        "bamQiAODYuh1",
        "QHF8YVU7Yuh3",
        "GwzvFGzlYuh3",
        "qYpmQ266Yuh3",
        "OH-pJp9IphqM",
        "bbFf2-_FphqN",
        "_ouA3fa0phqN",
        "Seke61FWphqN",
        "PIIx-8_IphqN",
        "t27r6nlMphqO",
        "r2jJGEOYphqO",
        "b0JNsNcRphqO",
        "BZR9WyysphqO",
        "jj7wYXLtphqO",
        "eZrbJ2SmphqO",
        "rFu4xreNphqO",
        "YJ55k-q6phqO",
        "gCFgpxoyphqP",
        "OVtJsKN_phqQ",
        "lssrdh5qphqQ",
        "U2RJ9gkRphqQ",
        "1M8mcRywphqQ",
        "tgIPom80phqQ",
        "JMzcOPDDphqR",
        "x-EpHcCOp1ci",
        "X_VqEhTip1ck",
        "8zGJKyg5p1ck",
        "PVzmfK_Ep1ck",
        "n3dbpmDWp1ck",
        "ylSl6qgtp1ck",
        "ZWILFDl5p1ck",
        "M7G43BXep1ck",
        "Ag9LCva-p1cl",
        "E6MkPsBcp1cl",
        "2cELzS2fp1cl",
        "3MPXvC8up1cl",
        "NC_X3p0fY2L0",
        "UV0SzAkaZNRQ",
        "YPEH6qLeZNRQ",
        "q29F0dvdveiT",
        "EXh0U9oCveiU",
        "22aHeOlLveiV",
        "g-ATYxFrGrvw",
        "Yfr_Vlr8HBkt",
        "8yEUt7NnHlrM",
        "tEA2Xm5dHt1r",
        "I79__PHVH19G",
        "Ou-I18pAyIpj",
        "fF3858GYyt-u",
        "4_0_7-oCpUZd",
        "hwyV_J3ipUZe",
        "3yB-zSqbpUZe",
        "dEUvejAfpUZe",
        "Fd15vwWVpUZf",
        "bn_IUdTipZyH",
        "49K5P_iCpZyH",
        "Nff-vKELpZyI",
        "kLW572S8pZyI",
        "dWbDXHzopZyI",
        "yLjJCtPM0KBk",
        "xiyOF9F70UgQ",
        "7wuGOrhz0itI",
        "id1riN9m0vUs",
        "578E2V7j08f6",
        "89xtkJwZ18nB",
        "67NQN5KX2AMe",
        "Iwf50b-R2tYG",
        "GMQiZwjn3iu7",
        "WVIkgGqN3qsr",
        "XkPnILGE3zoT",
        "Hlsf0x5436Go",
        "mT9DMSJo4nBL",
        "c49ITxTc407N",
        "OeJFEK0N496M",
        "9ExmJH0g5HBk",
        "cJNqERVU536h",
        "k5UmGsbsOxih",
        "T0VqWOYE6DLQ",
        "qBMux9mC6MCf",
        "-oLEiFgy-5Pf",
        "C74aWNz2AliB",
        "2DejudWSA-a0",
        "pEMng2IbBLp7",
        "rAdphbQ9Bhjc",
        "TNVZ9zx19K6k",
        "nqoHp30x9hH9",
        "rMDnDkt2B6du",
        "yiiVWRdJDDil",
        "1UUpS68QDMuG",
        "kexQrXU-DjzY",
        "T5CmagL3EC8N",
        "BhH2vgX9EjGr",
        "qjKvONjwE8ra",
        "P1XJ9OREExlT",
        "VFOzZv6IFROw",
        "TIqpNgepFxVj",
        "VfCC591jGiD4",
        "OB4l2ZhMeS1U",
        "ArJBuiUVfxKd",
        "4qY1EAkEfxKe",
        "PiV4Ypx8fxKe",
        "TfvqoZmBfxKf",
        "dJ2tPlVmpsJ0",
        "JWYfwnehpsJ1",
        "-jK_YjpMpsJ2",
        "HAih1iBOpsJ2",
        "zVGeBEFhpsJ2",
        "bmKjuQ-FpsJ3",
        "Fze-IPXLpx6K",
        "7AN1z2sKpx6M",
        "9PIHJqyupx6M",
        "_-qAgymDpx6N",
        "Z-hykwinpx6N",
        "h_CCil-SKHpo",
        "cBFFvTBNJzUa",
        "HvGl1hHyA_VK",
        "EyNgTHvd2WFk",
        "KH5McJBi2d8v",
        "iW_Lq9qf2h6X",
        "-Kee-DAl2viO",
        "gCX9965dhzqZ",
        "gIfDvo9L0UH2"
      ],
      "include_colab_link": true
    },
    "kernelspec": {
      "name": "python3",
      "display_name": "Python 3"
    },
    "language_info": {
      "name": "python"
    }
  },
  "cells": [
    {
      "cell_type": "markdown",
      "metadata": {
        "id": "view-in-github",
        "colab_type": "text"
      },
      "source": [
        "<a href=\"https://colab.research.google.com/github/Dipu1764/Global-Terrorism-project/blob/main/Global_Terrorism_Data_Template.ipynb\" target=\"_parent\"><img src=\"https://colab.research.google.com/assets/colab-badge.svg\" alt=\"Open In Colab\"/></a>"
      ]
    },
    {
      "cell_type": "markdown",
      "source": [
        "# **Project Name**    - Global Terrorism Data\n",
        "\n"
      ],
      "metadata": {
        "id": "vncDsAP0Gaoa"
      }
    },
    {
      "cell_type": "markdown",
      "source": [
        "# **Project Summary -**"
      ],
      "metadata": {
        "id": "FJNUwmbgGyua"
      }
    },
    {
      "cell_type": "markdown",
      "source": [
        "***Global Terrorism Analysis***\n",
        "\n",
        "In this project, we analyzed a global terrorism dataset, focusing on trends, patterns, and insights using a range of data visualization techniques. The dataset included details on terrorist attacks like time, location, attack type, and targets.\n",
        "\n",
        "**Temporal Trends:**\n",
        "\n",
        "A bar chart of monthly attacks showed higher terrorist activity during specific months (e.g., June-August), suggesting seasonality in attacks.\n",
        "\n",
        "Yearly trends indicated spikes in terrorist activities in certain regions, particularly South Asia and the Middle East, reflecting ongoing conflicts.\n",
        "\n",
        "**Regional Distribution:**\n",
        "\n",
        "Bar charts of attacks by region revealed that South Asia and the Middle East are the most impacted by terrorism. These regions face long-standing conflicts and instability.\n",
        "\n",
        "The stacked bar chart comparing attack types across regions showed that bombings are the most common method worldwide, while armed assaults and kidnappings vary regionally.\n",
        "\n",
        "**Attack Type and Targets:**\n",
        "\n",
        "Governments, private citizens, and businesses are the most frequently targeted, as shown by the bar chart of target types. Terrorists aim to disrupt political and social stability.\n",
        "\n",
        "**Terrorist Groups:**\n",
        "\n",
        "A horizontal bar chart highlighted that groups like the Taliban and ISIS dominate terrorist activities globally, particularly in recent years.\n"
      ],
      "metadata": {
        "id": "F6v_1wHtG2nS"
      }
    },
    {
      "cell_type": "markdown",
      "source": [
        "# **GitHub Link -**"
      ],
      "metadata": {
        "id": "w6K7xa23Elo4"
      }
    },
    {
      "cell_type": "markdown",
      "source": [
        "https://github.com/Dipu1764"
      ],
      "metadata": {
        "id": "h1o69JH3Eqqn"
      }
    },
    {
      "cell_type": "markdown",
      "source": [
        "# **Problem Statement**\n"
      ],
      "metadata": {
        "id": "yQaldy8SH6Dl"
      }
    },
    {
      "cell_type": "markdown",
      "source": [
        "***Problem Statement: Global Terrorism Data Analysis***\n",
        "\n",
        "The aim of this project is to analyze global terrorism data to uncover patterns and trends related to terrorist activities worldwide. Using various visualization techniques, we explore the frequency and distribution of terrorist attacks based on different factors such as time (year, month), region, attack type, target type, and terrorist group.\n",
        "\n",
        "**Specifically, we address the following questions:**\n",
        "\n",
        "What are the temporal trends in terrorist attacks over the years and months?\n",
        "\n",
        "Which regions and countries experience the highest frequency of terrorist attacks?\n",
        "\n",
        "What are the most common types of terrorist attacks and their primary targets?\n",
        "\n",
        "Which terrorist groups are responsible for the majority of attacks?\n",
        "\n",
        "How do attack types vary by region, and how are they distributed over time?\n",
        "\n",
        "By answering these questions, we aim to provide actionable insights into global **terrorism** trends, which could inform strategies for improving national security and **counter-terrorism** efforts"
      ],
      "metadata": {
        "id": "DpeJGUA3kjGy"
      }
    },
    {
      "cell_type": "markdown",
      "source": [
        "# **General Guidelines** : -  "
      ],
      "metadata": {
        "id": "mDgbUHAGgjLW"
      }
    },
    {
      "cell_type": "markdown",
      "source": [
        "1.   Well-structured, formatted, and commented code is required.\n",
        "2.   Exception Handling, Production Grade Code & Deployment Ready Code will be a plus. Those students will be awarded some additional credits.\n",
        "     \n",
        "     The additional credits will have advantages over other students during Star Student selection.\n",
        "       \n",
        "             [ Note: - Deployment Ready Code is defined as, the whole .ipynb notebook should be executable in one go\n",
        "                       without a single error logged. ]\n",
        "\n",
        "3.   Each and every logic should have proper comments.\n",
        "4. You may add as many number of charts you want. Make Sure for each and every chart the following format should be answered.\n",
        "        \n",
        "\n",
        "```\n",
        "# Chart visualization code\n",
        "```\n",
        "            \n",
        "\n",
        "*   Why did you pick the specific chart?\n",
        "*   What is/are the insight(s) found from the chart?\n",
        "* Will the gained insights help creating a positive business impact?\n",
        "Are there any insights that lead to negative growth? Justify with specific reason.\n",
        "\n",
        "5. You have to create at least 15 logical & meaningful charts having important insights.\n",
        "\n",
        "\n",
        "[ Hints : - Do the Vizualization in  a structured way while following \"UBM\" Rule.\n",
        "\n",
        "U - Univariate Analysis,\n",
        "\n",
        "B - Bivariate Analysis (Numerical - Categorical, Numerical - Numerical, Categorical - Categorical)\n",
        "\n",
        "M - Multivariate Analysis\n",
        " ]\n",
        "\n",
        "\n",
        "\n",
        "\n",
        "\n",
        "6. You may add more ml algorithms for model creation. Make sure for each and every algorithm, the following format should be answered.\n",
        "\n",
        "\n",
        "*   Explain the ML Model used and it's performance using Evaluation metric Score Chart.\n",
        "\n",
        "\n",
        "*   Cross- Validation & Hyperparameter Tuning\n",
        "\n",
        "*   Have you seen any improvement? Note down the improvement with updates Evaluation metric Score Chart.\n",
        "\n",
        "*   Explain each evaluation metric's indication towards business and the business impact pf the ML model used.\n",
        "\n",
        "\n",
        "\n",
        "\n",
        "\n",
        "\n",
        "\n",
        "\n",
        "\n",
        "\n",
        "\n",
        "\n",
        "\n",
        "\n",
        "\n",
        "\n",
        "\n",
        "\n"
      ],
      "metadata": {
        "id": "ZrxVaUj-hHfC"
      }
    },
    {
      "cell_type": "markdown",
      "source": [
        "# ***Let's Begin !***"
      ],
      "metadata": {
        "id": "O_i_v8NEhb9l"
      }
    },
    {
      "cell_type": "markdown",
      "source": [
        "## ***1. Know Your Data***"
      ],
      "metadata": {
        "id": "HhfV-JJviCcP"
      }
    },
    {
      "cell_type": "markdown",
      "source": [
        "### Import Libraries"
      ],
      "metadata": {
        "id": "Y3lxredqlCYt"
      }
    },
    {
      "cell_type": "code",
      "source": [
        "# Import Libraries\n",
        "import pandas as pd\n",
        "import numpy as np\n",
        "import matplotlib.pyplot as plt\n",
        "import seaborn as sns\n",
        "import time\n",
        "from IPython.display import clear_output\n",
        "%matplotlib inline\n",
        "import warnings\n",
        "warnings.filterwarnings('ignore')"
      ],
      "metadata": {
        "id": "M8Vqi-pPk-HR"
      },
      "execution_count": null,
      "outputs": []
    },
    {
      "cell_type": "markdown",
      "source": [
        "### Dataset Loading"
      ],
      "metadata": {
        "id": "3RnN4peoiCZX"
      }
    },
    {
      "cell_type": "code",
      "source": [
        "# Load Dataset\n",
        "terrorism = pd.read_csv('/content/Global Terrorism Data.csv', encoding='latin1')"
      ],
      "metadata": {
        "id": "4CkvbW_SlZ_R"
      },
      "execution_count": null,
      "outputs": []
    },
    {
      "cell_type": "markdown",
      "source": [
        "### Dataset First View"
      ],
      "metadata": {
        "id": "x71ZqKXriCWQ"
      }
    },
    {
      "cell_type": "code",
      "source": [
        "# Dataset First Look\n",
        "terrorism.head()"
      ],
      "metadata": {
        "id": "LWNFOSvLl09H"
      },
      "execution_count": null,
      "outputs": []
    },
    {
      "cell_type": "markdown",
      "source": [
        "### Dataset Rows & Columns count"
      ],
      "metadata": {
        "id": "7hBIi_osiCS2"
      }
    },
    {
      "cell_type": "code",
      "source": [
        "# Dataset Rows & Columns count\n",
        "terrorism.shape"
      ],
      "metadata": {
        "id": "Kllu7SJgmLij"
      },
      "execution_count": null,
      "outputs": []
    },
    {
      "cell_type": "markdown",
      "source": [
        "### Dataset Information"
      ],
      "metadata": {
        "id": "JlHwYmJAmNHm"
      }
    },
    {
      "cell_type": "code",
      "source": [
        "# Dataset Info\n",
        "terrorism.info()"
      ],
      "metadata": {
        "id": "e9hRXRi6meOf"
      },
      "execution_count": null,
      "outputs": []
    },
    {
      "cell_type": "markdown",
      "source": [
        "#### Duplicate Values"
      ],
      "metadata": {
        "id": "35m5QtbWiB9F"
      }
    },
    {
      "cell_type": "code",
      "source": [
        "# Dataset Duplicate Value Count\n",
        "terrorism.duplicated().sum()"
      ],
      "metadata": {
        "id": "1sLdpKYkmox0"
      },
      "execution_count": null,
      "outputs": []
    },
    {
      "cell_type": "markdown",
      "source": [
        "#### Missing Values/Null Values"
      ],
      "metadata": {
        "id": "PoPl-ycgm1ru"
      }
    },
    {
      "cell_type": "code",
      "source": [
        "# Missing Values/Null Values Count\n",
        "terrorism.isnull().sum()"
      ],
      "metadata": {
        "id": "GgHWkxvamxVg"
      },
      "execution_count": null,
      "outputs": []
    },
    {
      "cell_type": "code",
      "source": [
        "# Visualizing the missing values\n",
        "terrorism.isnull().sum().plot(kind='bar', figsize=(10, 6))\n",
        "plt.title('Missing Values in Terrorism Dataset')\n",
        "plt.xlabel('Columns')\n",
        "plt.ylabel('Number of Missing Values')\n",
        "plt.xticks(rotation=45, ha='right')\n",
        "plt.tight_layout()\n",
        "plt.show()\n"
      ],
      "metadata": {
        "id": "3q5wnI3om9sJ"
      },
      "execution_count": null,
      "outputs": []
    },
    {
      "cell_type": "markdown",
      "source": [
        "### What did you know about your dataset?"
      ],
      "metadata": {
        "id": "H0kj-8xxnORC"
      }
    },
    {
      "cell_type": "markdown",
      "source": [
        "1 - **Shape of the Dataset:** The number of rows and columns -- 181691, 135\n",
        "\n",
        "2 - **Preview of Data:** The head() method shows the first five rows.\n",
        "\n",
        "3 - **Data Types & Missing Values:** The info() method displays data types and non-null counts.\n",
        "\n",
        "4 - **Missing Values:** Displays the total missing values in each column.\n",
        "\n",
        "5 - **Duplicate Rows:** Helps identify if there are any duplicate rows in the dataset."
      ],
      "metadata": {
        "id": "gfoNAAC-nUe_"
      }
    },
    {
      "cell_type": "markdown",
      "source": [
        "## ***2. Understanding Your Variables***"
      ],
      "metadata": {
        "id": "nA9Y7ga8ng1Z"
      }
    },
    {
      "cell_type": "code",
      "source": [
        "# Dataset Columns\n",
        "terrorism.columns"
      ],
      "metadata": {
        "id": "j7xfkqrt5Ag5"
      },
      "execution_count": null,
      "outputs": []
    },
    {
      "cell_type": "code",
      "source": [
        "# Dataset Describe\n",
        "terrorism.describe()"
      ],
      "metadata": {
        "id": "DnOaZdaE5Q5t"
      },
      "execution_count": null,
      "outputs": []
    },
    {
      "cell_type": "markdown",
      "source": [
        "### Variables Description"
      ],
      "metadata": {
        "id": "PBTbrJXOngz2"
      }
    },
    {
      "cell_type": "markdown",
      "source": [
        "**1 - columns Description** -- The columns attribute in a pandas DataFrame returns a list of all the column names (i.e., variables) present in the dataset.\n",
        "\n",
        "This command helps you understand what kind of data the dataset captures.\n",
        "\n",
        "\n",
        "**2 - describe() Description** -- The describe() function in pandas generates descriptive statistics for the numerical columns in the DataFrame. It provides an overview of the central tendency, spread, and shape of the distribution of the dataset’s numerical features.\n",
        "\n",
        "**A - Central Tendency:** By looking at the mean and median, you can understand the central point around which your data is clustered.\n",
        "\n",
        "**B - Dispersion:** The standard deviation (std) and quartiles give you an idea of how spread out the values are.\n",
        "\n",
        "**C - Extremes:** The min and max values show the range of data.\n",
        "\n",
        "**D - Missing Values:** If the count is less than the total number of rows, that indicates missing values in that particular column."
      ],
      "metadata": {
        "id": "aJV4KIxSnxay"
      }
    },
    {
      "cell_type": "markdown",
      "source": [
        "### Check Unique Values for each variable."
      ],
      "metadata": {
        "id": "u3PMJOP6ngxN"
      }
    },
    {
      "cell_type": "code",
      "source": [
        "# Check Unique Values for each variable.\n",
        "unique_values = terrorism.nunique()\n",
        "print(unique_values)\n",
        "\n",
        "# Find the unique values in the 'country' column\n",
        "unique_countries = terrorism['country'].unique()\n",
        "print(unique_countries)\n",
        "\n",
        "\n",
        "# Find the number of unique values in all categorical columns\n",
        "categorical_columns = terrorism.select_dtypes(include=['object']).nunique()\n",
        "print(categorical_columns)\n",
        "\n",
        "\n",
        "# Find the number of unique values in all numerical columns\n",
        "numerical_columns = terrorism.select_dtypes(include=['number']).nunique()\n",
        "print(numerical_columns)\n"
      ],
      "metadata": {
        "id": "zms12Yq5n-jE"
      },
      "execution_count": null,
      "outputs": []
    },
    {
      "cell_type": "markdown",
      "source": [
        "## 3. ***Data Wrangling***"
      ],
      "metadata": {
        "id": "dauF4eBmngu3"
      }
    },
    {
      "cell_type": "markdown",
      "source": [
        "### Data Wrangling Code"
      ],
      "metadata": {
        "id": "bKJF3rekwFvQ"
      }
    },
    {
      "cell_type": "code",
      "source": [
        "# Write your code to make your dataset analysis ready.\n",
        "# 1. Renaming columns for better readability (optional)\n",
        "terrorism.rename(columns={\n",
        "    'iyear': 'year',\n",
        "    'imonth': 'month',\n",
        "    'iday': 'day',\n",
        "    'nkill': 'num_killed',\n",
        "    'nwound': 'num_wounded'\n",
        "}, inplace=True)\n",
        "\n",
        "# 2. Handling Missing Values\n",
        "# Option 1: Drop rows with missing values\n",
        "terrorism_cleaned = terrorism.dropna()\n",
        "\n",
        "# Option 2: Fill missing values with a default value\n",
        "terrorism['num_killed'].fillna(0, inplace=True)\n",
        "terrorism['num_wounded'].fillna(0, inplace=True)\n",
        "\n",
        "# 3. Dropping Irrelevant Columns\n",
        "# You might want to drop some columns that are irrelevant for your analysis\n",
        "columns_to_drop = ['eventid', 'propcomment', 'scite1', 'scite2', 'scite3']\n",
        "terrorism_cleaned = terrorism.drop(columns=columns_to_drop)\n",
        "\n",
        "# 4. Converting Data Types\n",
        "terrorism['year'] = terrorism['year'].astype(int)\n",
        "\n",
        "# 5. Filtering the Data\n",
        "terrorism_filtered = terrorism[terrorism['year'] >= 2000]\n",
        "\n",
        "# 6. Creating New Columns\n",
        "terrorism['total_victims'] = terrorism['num_killed'] + terrorism['num_wounded']\n",
        "\n",
        "# 7. Dropping duplicate rows\n",
        "terrorism_cleaned = terrorism.drop_duplicates()\n",
        "\n",
        "# 8. Resetting the index after dropping rows\n",
        "terrorism_cleaned.reset_index(drop=True, inplace=True)\n",
        "\n",
        "# 9. Display cleaned dataset\n",
        "print(terrorism_cleaned.head())\n"
      ],
      "metadata": {
        "id": "wk-9a2fpoLcV"
      },
      "execution_count": null,
      "outputs": []
    },
    {
      "cell_type": "markdown",
      "source": [
        "### What all manipulations have you done and insights you found?"
      ],
      "metadata": {
        "id": "MSa1f5Uengrz"
      }
    },
    {
      "cell_type": "markdown",
      "source": [
        "**1 - Renaming Columns:**\n",
        "We renamed columns to make them more understandable and intuitive:\n",
        "\n",
        "Insight:\n",
        "Clear and readable column names make the dataset easier to work with and interpret. This step improves code readability but does not directly yield insights.\n",
        "\n",
        "**2 - Handling Missing Values:**\n",
        "We either dropped rows with missing values using dropna() or filled missing values in the num_killed and num_wounded columns with 0 using fillna(0).\n",
        "\n",
        "Insight:\n",
        "Handling missing values ensures that statistical calculations (like sums and averages) are accurate. If many rows were dropped, it could indicate poor data quality, especially in columns with critical information like num_killed. Filling missing values with zeros ensures that we treat those rows as non-lethal or non-injury incidents.\n",
        "\n",
        "**3 - Dropping Irrelevant Columns:**\n",
        "We dropped columns that are likely irrelevant for analysis, such as:\n",
        "\n",
        "Insight:\n",
        "These columns may not contribute useful information for certain types of analysis (e.g., these might be textual or reference-based columns). By dropping them, we focus on the key variables like attack type, region, casualties, etc.\n",
        "\n",
        "**4 - Converting Data Types:**\n",
        "We ensured that the year column is of integer type.\n",
        "\n",
        "Insight:\n",
        "This conversion ensures that year-based operations (e.g., filtering by year or time series analysis) work properly. If a column is misrepresented as a string, this could lead to issues when performing numerical or date-based operations.\n",
        "\n",
        "**5 - Filtering Data:**\n",
        "We filtered the dataset to only include incidents that occurred from the year 2000 onward.\n",
        "\n",
        "Insight:\n",
        "Filtering by year allows us to focus on more recent events. This could help in trend analysis or understanding modern terrorism patterns. For example, comparing attack types before and after 2000 could reveal shifts in global terrorism strategies.\n",
        "\n",
        "**6 - Creating New Columns:**\n",
        "We created a new column total_victims by adding num_killed and num_wounded.\n",
        "\n",
        "Insight:\n",
        "This new column provides a comprehensive measure of the impact of each attack. You can now sort or group data based on total victims to understand which regions or attack types are the deadliest. It can also help in summarizing the human cost of terrorism.\n",
        "\n",
        "**7 - Dropping Duplicates:**\n",
        "We removed any duplicate rows in the dataset using drop_duplicates().\n",
        "\n",
        "Insight:\n",
        "Removing duplicates ensures that the analysis isn't biased by repeated records of the same event. This step improves data quality and prevents inflated statistics (e.g., counting the same attack multiple times).\n",
        "\n",
        "**8 - Resetting Index:**\n",
        "After dropping rows, we reset the index to maintain a clean DataFrame.\n",
        "\n",
        "Insight:\n",
        "This step doesn’t provide new insights but helps maintain the cleanliness of the DataFrame after rows are dropped or filtered out."
      ],
      "metadata": {
        "id": "LbyXE7I1olp8"
      }
    },
    {
      "cell_type": "markdown",
      "source": [
        "## ***4. Data Vizualization, Storytelling & Experimenting with charts : Understand the relationships between variables***"
      ],
      "metadata": {
        "id": "GF8Ens_Soomf"
      }
    },
    {
      "cell_type": "markdown",
      "source": [
        "#### Chart - 1 Which year had the highest number of terrorist attacks?"
      ],
      "metadata": {
        "id": "0wOQAZs5pc--"
      }
    },
    {
      "cell_type": "code",
      "source": [
        "# Chart - 1\n",
        "# Rename 'country_txt' to 'country' for better readability\n",
        "terrorism.rename(columns={'country_txt': 'country'}, inplace=True)\n",
        "\n",
        "# Check for duplicate columns\n",
        "if terrorism.columns.duplicated().any():\n",
        "  # Print duplicate column names\n",
        "  print(f\"Duplicate columns: {terrorism.columns[terrorism.columns.duplicated()]}\")\n",
        "  # Drop duplicate 'country' columns, keeping the first one\n",
        "  terrorism = terrorism.loc[:, ~terrorism.columns.duplicated()]\n",
        "else:\n",
        "  # Check if 'country' is part of a MultiIndex\n",
        "  if isinstance(terrorism.columns, pd.MultiIndex):\n",
        "    # If it's a MultiIndex, specify the level in value_counts\n",
        "    country_attacks = terrorism['country'].value_counts(level=0) # Assuming 'country' is at level 0\n",
        "  else:\n",
        "    # Proceed as before\n",
        "    country_attacks = terrorism['country'].value_counts()\n",
        "\n",
        "\n",
        "# visualization code\n",
        "# 2. Find the country with the highest number of attacks\n",
        "most_attacked_country = country_attacks.idxmax()\n",
        "highest_attacks = country_attacks.max()\n",
        "\n",
        "print(f\"The country with the highest number of attacks is: {most_attacked_country} with {highest_attacks} attacks.\")\n",
        "\n",
        "# 3. Visualize the top 10 countries with the most attacks\n",
        "top_10_countries = country_attacks.head(10)\n",
        "\n",
        "# Plotting the data\n",
        "plt.figure(figsize=(12, 8))\n",
        "top_10_countries.plot(kind='bar', color='coral')\n",
        "\n",
        "# Add titles and labels\n",
        "plt.title('Top 10 Countries with the Highest Number of Terrorist Attacks', fontsize=16)\n",
        "plt.xlabel('country', fontsize=14)\n",
        "plt.ylabel('Number of Attacks', fontsize=14)\n",
        "\n",
        "# Rotate x-axis labels for better readability\n",
        "plt.xticks(rotation=45, ha='right', fontsize=12)\n",
        "\n",
        "# Add gridlines for better visualization\n",
        "plt.grid(axis='y', linestyle='--', alpha=0.7)\n",
        "\n",
        "# Show plot\n",
        "plt.tight_layout()\n",
        "plt.show()\n"
      ],
      "metadata": {
        "id": "6E8jNr5UOi68"
      },
      "execution_count": null,
      "outputs": []
    },
    {
      "cell_type": "markdown",
      "source": [
        "##### 1. Why did you pick the specific chart?"
      ],
      "metadata": {
        "id": "K5QZ13OEpz2H"
      }
    },
    {
      "cell_type": "markdown",
      "source": [
        "**1 -** Clearly compare different countries.\n",
        "\n",
        "**2 -** Visually emphasize the top 10 countries.\n",
        "\n",
        "**3 -** Provide easy interpretation of categorical data."
      ],
      "metadata": {
        "id": "XESiWehPqBRc"
      }
    },
    {
      "cell_type": "markdown",
      "source": [
        "##### 2. What is/are the insight(s) found from the chart?"
      ],
      "metadata": {
        "id": "lQ7QKXXCp7Bj"
      }
    },
    {
      "cell_type": "markdown",
      "source": [
        "**Insights from the Chart (Top 10 Countries with Most Terrorist Attacks):**\n",
        "\n",
        "**1 - Concentration of Attacks:** A small number of countries dominate the global landscape in terms of terrorist attacks, with one country having significantly more attacks than others.\n",
        "\n",
        "**2 -Country with Highest Attacks:** The country with the highest number of attacks stands out clearly, indicating it is the most affected by terrorism in the dataset.\n",
        "\n",
        "**3 -Disparity in Attack Numbers:** There is a noticeable drop in the number of attacks between the top-ranking country and the others, showing an uneven distribution of terrorist activities globally.\n",
        "\n",
        "**4 - Regional Hotspots:** The countries in the top 10 are typically in regions of political instability or conflict, pointing to potential regional hotspots for terrorism.\n",
        "\n",
        "**5 - Policy Implication:** Countries with the highest attack counts may need targeted counterterrorism policies and international assistance.\n",
        "\n",
        "**6 - Patterns in Geography:** The chart suggests that certain geographic areas experience more frequent attacks, potentially due to sociopolitical factors unique to those regions.\n",
        "\n",
        "**7 - Global Distribution:** While the attacks are global, the chart shows that a few countries disproportionately experience the majority of terrorist incidents.\n",
        "\n",
        "**8 - Ranking Clarity:** The visual ranking helps quickly identify the most affected countries, aiding in prioritizing regions for counterterrorism measures.\n",
        "\n",
        "**9 - Comparative Analysis:** The chart allows for a simple comparison between countries, making it easy to see which nations are significantly more impacted by terrorism.\n",
        "\n",
        "**10 - Focus Areas for Research:** The top 10 countries may warrant further study to understand the underlying causes and drivers of terrorism in these regions."
      ],
      "metadata": {
        "id": "C_j1G7yiqdRP"
      }
    },
    {
      "cell_type": "markdown",
      "source": [
        "#### Chart - 2 Which attack type is most frequently used in terrorist incidents?"
      ],
      "metadata": {
        "id": "KSlN3yHqYklG"
      }
    },
    {
      "cell_type": "code",
      "source": [
        "# Chart - 2 visualization code\n",
        "# Count attack types\n",
        "attack_types = terrorism['attacktype1_txt'].value_counts()\n",
        "\n",
        "# Visualization using Donut Chart\n",
        "plt.figure(figsize=(8, 8))\n",
        "plt.pie(attack_types.head(10), labels=attack_types.head(10).index, autopct='%1.1f%%', colors=plt.cm.Set3.colors, wedgeprops=dict(width=0.4))\n",
        "plt.title('Top 10 Attack Types (Donut Chart)', fontsize=16)\n",
        "plt.show()\n",
        "\n",
        "\n"
      ],
      "metadata": {
        "id": "R4YgtaqtYklH"
      },
      "execution_count": null,
      "outputs": []
    },
    {
      "cell_type": "markdown",
      "source": [
        "##### 1. Why did you pick the specific chart?"
      ],
      "metadata": {
        "id": "t6dVpIINYklI"
      }
    },
    {
      "cell_type": "markdown",
      "source": [
        "I chose the donut chart because it visually emphasizes the proportional distribution of the top 10 attack types, making it easy to compare their relative frequencies. Its compact, circular design adds clarity by focusing on the most frequent categories. The hollow center also enhances visual appeal and reduces clutter compared to a regular pie chart."
      ],
      "metadata": {
        "id": "5aaW0BYyYklI"
      }
    },
    {
      "cell_type": "markdown",
      "source": [
        "##### 2. What is/are the insight(s) found from the chart?"
      ],
      "metadata": {
        "id": "ijmpgYnKYklI"
      }
    },
    {
      "cell_type": "markdown",
      "source": [
        "The chart reveals that Bombing/Explosion is the most common attack type, accounting for a significant portion of incidents. Armed Assault and Assassination are also prevalent, but to a lesser extent. These top three attack types dominate the dataset, highlighting the preferred methods used by terrorists."
      ],
      "metadata": {
        "id": "PSx9atu2YklI"
      }
    },
    {
      "cell_type": "markdown",
      "source": [
        "#### Chart - 3  Which terrorist group is responsible for the most attacks?"
      ],
      "metadata": {
        "id": "EM7whBJCYoAo"
      }
    },
    {
      "cell_type": "code",
      "source": [
        "# Chart - 3 visualization code\n",
        "# Count attacks per terrorist group\n",
        "terrorist_groups = terrorism['gname'].value_counts().drop('Unknown')\n",
        "\n",
        "# Visualization\n",
        "# Visualization using Horizontal Bar Chart\n",
        "plt.figure(figsize=(10, 6))\n",
        "terrorist_groups.head(10).plot(kind='barh', color='teal')\n",
        "plt.title('Top 10 Terrorist Groups by Number of Attacks (Horizontal Bar Chart)', fontsize=16)\n",
        "plt.xlabel('Number of Attacks', fontsize=12)\n",
        "plt.ylabel('Terrorist Group', fontsize=12)\n",
        "plt.show()\n",
        "\n"
      ],
      "metadata": {
        "id": "t6GMdE67YoAp"
      },
      "execution_count": null,
      "outputs": []
    },
    {
      "cell_type": "markdown",
      "source": [
        "##### 1. Why did you pick the specific chart?"
      ],
      "metadata": {
        "id": "fge-S5ZAYoAp"
      }
    },
    {
      "cell_type": "markdown",
      "source": [
        "I chose the horizontal bar chart because it effectively displays categorical data with longer labels, such as terrorist group names, in a clear and readable format. It allows for easy comparison of the top 10 groups by the number of attacks, making it straightforward to see which groups are most active. The horizontal layout also helps accommodate longer text labels and provides a better visual hierarchy for categorical comparisons."
      ],
      "metadata": {
        "id": "5dBItgRVYoAp"
      }
    },
    {
      "cell_type": "markdown",
      "source": [
        "##### 2. What is/are the insight(s) found from the chart?"
      ],
      "metadata": {
        "id": "85gYPyotYoAp"
      }
    },
    {
      "cell_type": "markdown",
      "source": [
        "**1 - Most Active Groups:** The chart highlights the top 10 terrorist groups with the highest number of attacks, showing which groups are the most active.\n",
        "\n",
        "**2 -Prolific Groups:** A small number of groups are responsible for a significant portion of the total attacks, indicating a concentration of terrorist activity among these organizations.\n",
        "\n",
        "**3 - Prioritization for Security:** Identifying these top groups helps in prioritizing counterterrorism efforts and resource allocation to address the most influential and dangerous groups."
      ],
      "metadata": {
        "id": "4jstXR6OYoAp"
      }
    },
    {
      "cell_type": "markdown",
      "source": [
        "#### Chart - 4 What are the most common target types for terrorist attacks?"
      ],
      "metadata": {
        "id": "4Of9eVA-YrdM"
      }
    },
    {
      "cell_type": "code",
      "source": [
        "# Chart - 4 visualization code\n",
        "# Count target types\n",
        "target_types = terrorism['targtype1_txt'].value_counts()\n",
        "\n",
        "# Visualization\n",
        "plt.figure(figsize=(10, 6))\n",
        "target_types.plot(kind='bar', color='orange')\n",
        "plt.title('Frequency of Target Types', fontsize=16)\n",
        "plt.xlabel('Target Type', fontsize=12)\n",
        "plt.ylabel('Number of Attacks', fontsize=12)\n",
        "plt.show()\n"
      ],
      "metadata": {
        "id": "irlUoxc8YrdO"
      },
      "execution_count": null,
      "outputs": []
    },
    {
      "cell_type": "markdown",
      "source": [
        "##### 1. Why did you pick the specific chart?"
      ],
      "metadata": {
        "id": "iky9q4vBYrdO"
      }
    },
    {
      "cell_type": "markdown",
      "source": [
        "I chose the bar chart because it clearly displays the frequency of each target type, making it easy to compare the number of attacks across different categories. The vertical bars effectively highlight the distribution of attacks and identify the most and least common target types, providing a straightforward visual comparison."
      ],
      "metadata": {
        "id": "aJRCwT6DYrdO"
      }
    },
    {
      "cell_type": "markdown",
      "source": [
        "##### 2. What is/are the insight(s) found from the chart?"
      ],
      "metadata": {
        "id": "F6T5p64dYrdO"
      }
    },
    {
      "cell_type": "markdown",
      "source": [
        "The chart shows which target types are most frequently attacked, revealing that some types are significantly more common than others. This information helps in understanding attack patterns and focusing security efforts on the most targeted types."
      ],
      "metadata": {
        "id": "Xx8WAJvtYrdO"
      }
    },
    {
      "cell_type": "markdown",
      "source": [
        "#### Chart - 5 How does the frequency of attacks vary by region over time?"
      ],
      "metadata": {
        "id": "bamQiAODYuh1"
      }
    },
    {
      "cell_type": "code",
      "source": [
        "# Chart - 5 visualization code\n",
        "# Group by year and region\n",
        "attacks_by_region_year = terrorism.groupby(['year', 'region_txt']).size().unstack(fill_value=0)\n",
        "\n",
        "# Visualization using Heatmap\n",
        "plt.figure(figsize=(12, 8))\n",
        "sns.heatmap(attacks_by_region_year, cmap='YlGnBu', annot=False, linewidths=0.5)\n",
        "plt.title('Frequency of Attacks by Region Over Time', fontsize=16)\n",
        "plt.xlabel('Region', fontsize=12)\n",
        "plt.ylabel('Year', fontsize=12)\n",
        "plt.show()\n"
      ],
      "metadata": {
        "id": "TIJwrbroYuh3"
      },
      "execution_count": null,
      "outputs": []
    },
    {
      "cell_type": "markdown",
      "source": [
        "##### 1. Why did you pick the specific chart?"
      ],
      "metadata": {
        "id": "QHF8YVU7Yuh3"
      }
    },
    {
      "cell_type": "markdown",
      "source": [
        "I chose the heatmap because it effectively visualizes the frequency of attacks across different regions over time. The heatmap uses color gradients to show variations in attack frequency, making it easy to identify trends and patterns at a glance. This chart is particularly useful for comparing multiple regions and observing changes over years."
      ],
      "metadata": {
        "id": "dcxuIMRPYuh3"
      }
    },
    {
      "cell_type": "markdown",
      "source": [
        "##### 2. What is/are the insight(s) found from the chart?"
      ],
      "metadata": {
        "id": "GwzvFGzlYuh3"
      }
    },
    {
      "cell_type": "markdown",
      "source": [
        "The heatmap reveals how attack frequencies vary by region over the years. It highlights regions with consistently high or low attack rates and identifies periods of increased or decreased terrorist activity. This helps in understanding regional trends and prioritizing security measures based on historical attack patterns."
      ],
      "metadata": {
        "id": "uyqkiB8YYuh3"
      }
    },
    {
      "cell_type": "markdown",
      "source": [
        "#### Chart - 6 What are the trends in the number of attacks by different terrorist groups over the past decade?"
      ],
      "metadata": {
        "id": "OH-pJp9IphqM"
      }
    },
    {
      "cell_type": "code",
      "source": [
        "# Filter data for the past decade\n",
        "recent_data = terrorism[terrorism['year'] >= 2014]\n",
        "\n",
        "# Group by year and terrorist group, then sum up the attacks per group\n",
        "attacks_by_group_year = recent_data.groupby(['gname', 'year']).size().unstack(fill_value=0)\n",
        "\n",
        "# Sum attacks by each group over the past decade\n",
        "total_attacks_by_group = attacks_by_group_year.sum()\n",
        "\n",
        "# Sort groups by total attacks in descending order\n",
        "total_attacks_by_group = total_attacks_by_group.sort_values(ascending=False)\n",
        "\n",
        "# Visualization using Horizontal Bar Chart\n",
        "plt.figure(figsize=(12, 8))\n",
        "total_attacks_by_group.plot(kind='barh', color='skyblue')\n",
        "plt.title('Total Number of Attacks by Terrorist Groups (Past Decade)', fontsize=16)\n",
        "plt.xlabel('Total Number of Attacks', fontsize=12)\n",
        "plt.ylabel('Terrorist Group', fontsize=12)\n",
        "plt.show()"
      ],
      "metadata": {
        "id": "1iRxAAxsZ8io"
      },
      "execution_count": null,
      "outputs": []
    },
    {
      "cell_type": "markdown",
      "source": [
        "##### 1. Why did you pick the specific chart?"
      ],
      "metadata": {
        "id": "bbFf2-_FphqN"
      }
    },
    {
      "cell_type": "markdown",
      "source": [
        "I chose the horizontal bar chart because it provides a clear and straightforward comparison of the total number of attacks by different terrorist groups over the past decade. The horizontal layout accommodates longer group names and makes it easy to rank and identify the most active groups."
      ],
      "metadata": {
        "id": "loh7H2nzphqN"
      }
    },
    {
      "cell_type": "markdown",
      "source": [
        "##### 2. What is/are the insight(s) found from the chart?"
      ],
      "metadata": {
        "id": "_ouA3fa0phqN"
      }
    },
    {
      "cell_type": "markdown",
      "source": [
        "The chart highlights which terrorist groups were most active over the past decade, showing their total number of attacks. It reveals which groups are the primary contributors to terrorist activities and helps prioritize counterterrorism efforts based on the volume of attacks."
      ],
      "metadata": {
        "id": "VECbqPI7phqN"
      }
    },
    {
      "cell_type": "markdown",
      "source": [
        "#### Chart - 7 Group by month and count the number of attacks"
      ],
      "metadata": {
        "id": "PIIx-8_IphqN"
      }
    },
    {
      "cell_type": "code",
      "source": [
        "# Chart - 7 visualization code\n",
        "# Group by month and count the number of attacks\n",
        "attacks_by_month = terrorism['month'].value_counts().sort_index()\n",
        "\n",
        "# Visualization using Bar Chart\n",
        "plt.figure(figsize=(12, 6))\n",
        "attacks_by_month.plot(kind='bar', color='darkorange')\n",
        "plt.title('Number of Terrorist Attacks by Month', fontsize=16)\n",
        "plt.xlabel('Month', fontsize=12)\n",
        "plt.ylabel('Number of Attacks', fontsize=12)\n",
        "plt.xticks(ticks=range(1, 13), labels=['Jan', 'Feb', 'Mar', 'Apr', 'May', 'Jun', 'Jul', 'Aug', 'Sep', 'Oct', 'Nov', 'Dec'], rotation=45)\n",
        "plt.show()\n",
        "\n"
      ],
      "metadata": {
        "id": "lqAIGUfyphqO"
      },
      "execution_count": null,
      "outputs": []
    },
    {
      "cell_type": "markdown",
      "source": [
        "##### 1. Why did you pick the specific chart?"
      ],
      "metadata": {
        "id": "t27r6nlMphqO"
      }
    },
    {
      "cell_type": "markdown",
      "source": [
        "The bar chart is chosen for visualizing the number of terrorist attacks by month because it clearly displays the distribution of attacks across different months in a straightforward and easily interpretable manner. The bar chart format allows for a quick comparison of attack frequencies by month, highlighting any seasonal patterns or anomalies in the data."
      ],
      "metadata": {
        "id": "iv6ro40sphqO"
      }
    },
    {
      "cell_type": "markdown",
      "source": [
        "##### 2. What is/are the insight(s) found from the chart?"
      ],
      "metadata": {
        "id": "r2jJGEOYphqO"
      }
    },
    {
      "cell_type": "markdown",
      "source": [
        "The chart reveals the distribution of terrorist attacks across different months.\n",
        "\n",
        "**1 - Seasonal Trends:** Certain months may show higher or lower frequencies of attacks, indicating potential seasonal patterns.\n",
        "\n",
        "**2 - Peak Months:** Specific months may have significantly higher numbers of attacks, which could be linked to geopolitical events or seasonal factors."
      ],
      "metadata": {
        "id": "Po6ZPi4hphqO"
      }
    },
    {
      "cell_type": "markdown",
      "source": [
        "#### Chart - 8 different approach to visualizing the monthly terrorist attacks trend over the years."
      ],
      "metadata": {
        "id": "BZR9WyysphqO"
      }
    },
    {
      "cell_type": "code",
      "source": [
        "# Chart - 8 visualization code\n",
        "# Reset index to prepare for FacetGrid\n",
        "monthly_attacks = monthly_attacks.reset_index()\n",
        "monthly_attacks_melted = monthly_attacks.melt(id_vars=['year'], var_name='month', value_name='number_of_attacks')\n",
        "\n",
        "# Map month numbers to names\n",
        "monthly_attacks_melted['month'] = monthly_attacks_melted['month'].map({\n",
        "    1: 'Jan', 2: 'Feb', 3: 'Mar', 4: 'Apr', 5: 'May', 6: 'Jun',\n",
        "    7: 'Jul', 8: 'Aug', 9: 'Sep', 10: 'Oct', 11: 'Nov', 12: 'Dec'\n",
        "})\n",
        "\n",
        "# Visualization using Facet Grid Line Plot\n",
        "g = sns.FacetGrid(monthly_attacks_melted, col='month', col_wrap=3, height=4, aspect=1.5, sharey=False)\n",
        "g.map(sns.lineplot, 'year', 'number_of_attacks', marker='o')\n",
        "\n",
        "# Adjust titles and labels\n",
        "g.set_titles(\"{col_name}\")\n",
        "g.set_axis_labels('Year', 'Number of Attacks')\n",
        "g.fig.suptitle('Monthly Terrorist Attacks Trend Over the Years', fontsize=16)\n",
        "plt.subplots_adjust(top=0.9)  # Adjust title position\n",
        "plt.show()\n",
        "\n"
      ],
      "metadata": {
        "id": "TdPTWpAVphqO"
      },
      "execution_count": null,
      "outputs": []
    },
    {
      "cell_type": "markdown",
      "source": [
        "##### 1. Why did you pick the specific chart?"
      ],
      "metadata": {
        "id": "jj7wYXLtphqO"
      }
    },
    {
      "cell_type": "markdown",
      "source": [
        "The Facet Grid Line Plot is chosen for its ability to display trends for each month separately. This visualization is particularly useful for:\n",
        "\n",
        "**1 - Detailed Analysis:** It allows a clear view of how terrorist attacks vary month-by-month over multiple years, facilitating comparisons between months.\n",
        "\n",
        "**2 - Trend Identification:** The line plot format helps in observing trends and fluctuations in attack frequencies over time for each month, making it easier to identify patterns and anomalies."
      ],
      "metadata": {
        "id": "Ob8u6rCTphqO"
      }
    },
    {
      "cell_type": "markdown",
      "source": [
        "##### 2. What is/are the insight(s) found from the chart?"
      ],
      "metadata": {
        "id": "eZrbJ2SmphqO"
      }
    },
    {
      "cell_type": "markdown",
      "source": [
        "**1 - Monthly Trends:** The chart reveals whether certain months consistently experience higher or lower numbers of attacks. For instance, it might show that some months consistently have more attacks, indicating possible seasonal patterns or specific time-related factors influencing attack frequency.\n",
        "\n",
        "**2 - Yearly Fluctuations:** By displaying each month separately, it helps in understanding how the frequency of attacks changes year-over-year within each month. This can highlight any significant increases or decreases in attacks during specific months over the years."
      ],
      "metadata": {
        "id": "mZtgC_hjphqO"
      }
    },
    {
      "cell_type": "markdown",
      "source": [
        "\n",
        "#### Chart - 9 Number of Terrorist Attacks by Region in 2016"
      ],
      "metadata": {
        "id": "YJ55k-q6phqO"
      }
    },
    {
      "cell_type": "code",
      "source": [
        "# Chart - 9 visualization code\n",
        "\n",
        "data_2016 = terrorism[terrorism['year'] == 2016]\n",
        "\n",
        "# Count the number of attacks per region\n",
        "attacks_by_region_2016 = data_2016['region'].value_counts()\n",
        "\n",
        "# Check if attacks_by_region_2016 is empty\n",
        "if attacks_by_region_2016.empty:\n",
        "    print(\"No terrorist attacks found for the year 2016.\")\n",
        "else:\n",
        "    # Visualization using Bar Chart\n",
        "    plt.figure(figsize=(12, 8))\n",
        "    attacks_by_region_2016.plot(kind='bar', color='purple')\n",
        "    plt.title('Number of Terrorist Attacks by Region in 2016', fontsize=16)\n",
        "    plt.xlabel('Region', fontsize=12)\n",
        "    plt.ylabel('Number of Attacks', fontsize=12)\n",
        "    plt.xticks(rotation=45)\n",
        "    plt.show()\n"
      ],
      "metadata": {
        "id": "B2aS4O1ophqO"
      },
      "execution_count": null,
      "outputs": []
    },
    {
      "cell_type": "markdown",
      "source": [
        "##### 1. Why did you pick the specific chart?"
      ],
      "metadata": {
        "id": "gCFgpxoyphqP"
      }
    },
    {
      "cell_type": "markdown",
      "source": [
        "The bar chart is chosen to visualize the number of terrorist attacks by region for the year 2016 because:\n",
        "\n",
        "**Clarity:** Bar charts are effective for comparing categorical data across different regions, making it easy to see which regions experienced the highest or lowest number of attacks.\n",
        "\n",
        "**Direct Comparison:** It provides a straightforward way to compare attack frequencies between regions, helping to identify regional hotspots or areas with relatively fewer incidents."
      ],
      "metadata": {
        "id": "TVxDimi2phqP"
      }
    },
    {
      "cell_type": "markdown",
      "source": [
        "##### 2. What is/are the insight(s) found from the chart?"
      ],
      "metadata": {
        "id": "OVtJsKN_phqQ"
      }
    },
    {
      "cell_type": "markdown",
      "source": [
        "**Regional Distribution:** The chart highlights which regions experienced the highest and lowest numbers of terrorist attacks in 2016, revealing geographical patterns in terrorist activity for that year.\n",
        "\n",
        "**Focus Areas:** It helps identify regions that may require more focused counter-terrorism efforts or resources based on the frequency of attacks, potentially guiding policy and security measures for the most affected regions."
      ],
      "metadata": {
        "id": "ngGi97qjphqQ"
      }
    },
    {
      "cell_type": "markdown",
      "source": [
        "#### Chart - 10 How does the frequency of terrorist attacks vary by region and attack type?"
      ],
      "metadata": {
        "id": "U2RJ9gkRphqQ"
      }
    },
    {
      "cell_type": "code",
      "source": [
        "# Chart - 10 visualization code\n",
        "# Group by region and attack type, then count the number of attacks\n",
        "attacks_by_region_type = terrorism.groupby(['region', 'attacktype1_txt']).size().unstack(fill_value=0)\n",
        "\n",
        "# Visualization using Stacked Bar Chart\n",
        "plt.figure(figsize=(14, 8))\n",
        "attacks_by_region_type.plot(kind='bar', stacked=True, colormap='tab20', figsize=(12, 8))\n",
        "plt.title('Frequency of Terrorist Attacks by Region and Attack Type', fontsize=16)\n",
        "plt.xlabel('Region', fontsize=12)\n",
        "plt.ylabel('Number of Attacks', fontsize=12)\n",
        "plt.xticks(rotation=45)\n",
        "plt.legend(title='Attack Type', bbox_to_anchor=(1.05, 1), loc='upper left')\n",
        "plt.tight_layout()\n",
        "plt.show()\n"
      ],
      "metadata": {
        "id": "GM7a4YP4phqQ"
      },
      "execution_count": null,
      "outputs": []
    },
    {
      "cell_type": "markdown",
      "source": [
        "##### 1. Why did you pick the specific chart?"
      ],
      "metadata": {
        "id": "1M8mcRywphqQ"
      }
    },
    {
      "cell_type": "markdown",
      "source": [
        "The stacked bar chart was chosen for its ability to show both the total number of attacks and the composition of different attack types within each region. This type of chart is effective for:\n",
        "\n",
        "**Comparative Analysis:** It allows for comparison of total attack frequencies across regions while simultaneously breaking down the data into attack types.\n",
        "\n",
        "**Detail and Overview:** It provides a detailed view of how each attack type contributes to the overall number of attacks in each region, facilitating insights into regional attack patterns and preferences."
      ],
      "metadata": {
        "id": "8agQvks0phqQ"
      }
    },
    {
      "cell_type": "markdown",
      "source": [
        "##### 2. What is/are the insight(s) found from the chart?"
      ],
      "metadata": {
        "id": "tgIPom80phqQ"
      }
    },
    {
      "cell_type": "markdown",
      "source": [
        "**Regional Attack Profiles:** The chart reveals which regions experience the highest number of attacks and the distribution of attack types within those regions. This helps in identifying the dominant attack methods used in different regions.\n",
        "\n",
        "**Attack Type Prevalence:** By showing the stacked segments, it provides insight into the relative prevalence of each attack type within regions, indicating whether certain types of attacks are more common in specific areas."
      ],
      "metadata": {
        "id": "Qp13pnNzphqQ"
      }
    },
    {
      "cell_type": "markdown",
      "source": [
        "#### Chart - 14 - Correlation Heatmap ( How do the frequencies of different attack types correlate with the number of attacks in various regions? )"
      ],
      "metadata": {
        "id": "NC_X3p0fY2L0"
      }
    },
    {
      "cell_type": "code",
      "source": [
        "# Correlation Heatmap visualization code\n",
        "# Create dummy variables for attack types and regions\n",
        "attack_dummies = pd.get_dummies(terrorism['attacktype1_txt'])\n",
        "region_dummies = pd.get_dummies(terrorism['region'])\n",
        "\n",
        "# Concatenate the dummy variables with the original dataframe\n",
        "data_with_dummies = pd.concat([attack_dummies, region_dummies], axis=1)\n",
        "\n",
        "# Compute the correlation matrix\n",
        "correlation_matrix = data_with_dummies.corr()\n",
        "\n",
        "# Focus on attack types and regions\n",
        "# Ensure correct column and index filtering\n",
        "attack_region_correlation = correlation_matrix[attack_dummies.columns].loc[region_dummies.columns]\n",
        "\n",
        "# Check if the DataFrame is empty\n",
        "if attack_region_correlation.empty:\n",
        "    print(\"Error: attack_region_correlation is empty. Check your filtering logic.\")\n",
        "else:\n",
        "    # Visualization using Heatmap\n",
        "    plt.figure(figsize=(14, 10))\n",
        "    sns.heatmap(attack_region_correlation, annot=True, cmap='coolwarm', fmt='.2f', linewidths=0.5)\n",
        "    plt.title('Correlation Between Attack Types and Regions', fontsize=16)\n",
        "    plt.xlabel('Regions', fontsize=12)\n",
        "    plt.ylabel('Attack Types', fontsize=12)\n",
        "    plt.show()"
      ],
      "metadata": {
        "id": "4E-YLh7isEsZ"
      },
      "execution_count": null,
      "outputs": []
    },
    {
      "cell_type": "markdown",
      "source": [
        "##### 1. Why did you pick the specific chart?"
      ],
      "metadata": {
        "id": "UV0SzAkaZNRQ"
      }
    },
    {
      "cell_type": "markdown",
      "source": [
        "The Correlation Heatmap was chosen because it effectively visualizes the strength and direction of relationships between multiple variables. In this case:\n",
        "\n",
        "**Insight into Relationships:** It provides a clear visual representation of how attack types correlate with regions, helping to identify which types of attacks are more prevalent in specific regions.\n",
        "\n",
        "**Pattern Detection:** It allows for easy detection of patterns and associations that might not be immediately obvious from raw data alone, making it easier to understand complex relationships."
      ],
      "metadata": {
        "id": "DVPuT8LYZNRQ"
      }
    },
    {
      "cell_type": "markdown",
      "source": [
        "##### 2. What is/are the insight(s) found from the chart?"
      ],
      "metadata": {
        "id": "YPEH6qLeZNRQ"
      }
    },
    {
      "cell_type": "markdown",
      "source": [
        "**Regional Attack Patterns:** The heatmap highlights how certain attack types are associated with specific regions. For example, it might reveal that specific regions experience particular types of attacks more frequently than others.\n",
        "\n",
        "**Correlation Strength:** It shows the strength of correlations between different attack types and regions, indicating whether some attack types are strongly associated with certain regions or if their presence is more random across different areas."
      ],
      "metadata": {
        "id": "bfSqtnDqZNRR"
      }
    },
    {
      "cell_type": "markdown",
      "source": [
        "#### Chart - 12 - Pair Plot ( What are the relationships between the month of attack, region, and extended duration of terrorist events? )"
      ],
      "metadata": {
        "id": "q29F0dvdveiT"
      }
    },
    {
      "cell_type": "code",
      "source": [
        "# Pair Plot visualization code\n",
        "# Select relevant columns for the analysis\n",
        "data_for_pairplot = terrorism[['imonth', 'region', 'extended']]\n",
        "\n",
        "# Rename columns for better readability in the plot\n",
        "data_for_pairplot.columns = ['Month', 'Region', 'Extended']\n",
        "\n",
        "# Visualize using Pair Plot\n",
        "sns.pairplot(data_for_pairplot, diag_kind='kde', plot_kws={'alpha':0.5, 's':40})\n",
        "plt.suptitle('Pair Plot of Month, Region, and Extended Duration of Terrorist Events', y=1.02, fontsize=16)\n",
        "plt.show()\n",
        "\n"
      ],
      "metadata": {
        "id": "o58-TEIhveiU"
      },
      "execution_count": null,
      "outputs": []
    },
    {
      "cell_type": "markdown",
      "source": [
        "##### 1. Why did you pick the specific chart?"
      ],
      "metadata": {
        "id": "EXh0U9oCveiU"
      }
    },
    {
      "cell_type": "markdown",
      "source": [
        "The Pair Plot was chosen to visualize potential relationships between multiple variables (month of attack, region, and event duration). It allows for an easy-to-understand comparison of how these factors interact, while also showing their individual distributions"
      ],
      "metadata": {
        "id": "eMmPjTByveiU"
      }
    },
    {
      "cell_type": "markdown",
      "source": [
        "##### 2. What is/are the insight(s) found from the chart?"
      ],
      "metadata": {
        "id": "22aHeOlLveiV"
      }
    },
    {
      "cell_type": "markdown",
      "source": [
        "The Pair Plot reveals any trends or patterns, such as whether certain regions experience more extended attacks during specific months. It also helps identify correlations between variables, like regions prone to prolonged events or months with higher attack occurrences."
      ],
      "metadata": {
        "id": "uPQ8RGwHveiV"
      }
    },
    {
      "cell_type": "markdown",
      "source": [
        "# **Conclusion**"
      ],
      "metadata": {
        "id": "gCX9965dhzqZ"
      }
    },
    {
      "cell_type": "markdown",
      "source": [
        "**Conclusion:**\n",
        "\n",
        "The analysis revealed that terrorism is concentrated in specific regions and tends to peak at certain times. These findings can help guide counter-terrorism strategies, focusing efforts where they are most needed. Visualizations helped uncover key trends, offering insights into the nature and spread of terrorist attacks worldwide."
      ],
      "metadata": {
        "id": "Fjb1IsQkh3yE"
      }
    },
    {
      "cell_type": "markdown",
      "source": [
        "### ***Hurrah! You have successfully completed your Data Visualization Capstone Project !!!***"
      ],
      "metadata": {
        "id": "gIfDvo9L0UH2"
      }
    }
  ]
}